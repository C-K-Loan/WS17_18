{
 "cells": [
  {
   "cell_type": "markdown",
   "metadata": {},
   "source": [
    "# Cognitive Algorithms - Assignment 1 (30 points)\n",
    "Cognitive Algorithms        \n",
    "Winter term 2017/2018      \n",
    "Technische Universität Berlin     \n",
    "Fachgebiet Maschinelles Lernen \n",
    "\n",
    "**Due on November 2, 2017 10am via ISIS **\n",
    "\n",
    "Note that the first assignment consists of two parts. The first part is a math recap and the second part is a simple programming exercise.                     \n",
    "After completing all tasks, run the whole notebook so that the content of each cell is properly displayed. Make sure that the code was ran and the entire output (e.g. figures) is printed. Print the notebook as a PDF file and again make sure that all lines are readable - use line breaks in the Python Code '\\' if necessary. Points will be deducted, if code or content is not readable!                  \n",
    "           \n",
    "**Upload the PDF file that contains a copy of your notebook on ISIS.**"
   ]
  },
  {
   "cell_type": "markdown",
   "metadata": {},
   "source": [
    "Group:                     \n",
    "Members:"
   ]
  },
  {
   "cell_type": "markdown",
   "metadata": {},
   "source": [
    "# Part 1: Math Recap\n",
    "---\n",
    "The first part of this assignment is a linear algebra recap. Task 1 consists of multiple choice questions. For Task 2 you only have to give the results and Task 3 asks you to state a proof. "
   ]
  },
  {
   "cell_type": "markdown",
   "metadata": {},
   "source": [
    "### Task 1 (8 points)\n",
    "Please answer questions A) to H) and check the correct answer (using an 'x'). Here is an example:      \n",
    "This is a question?\n",
    "- [ ] wrong answer\n",
    "- [ ] wrong answer\n",
    "- [x] correct answer\n",
    "- [ ] wrong answer"
   ]
  },
  {
   "cell_type": "markdown",
   "metadata": {},
   "source": [
    "**A)** What is the scalar product of the following vectors $\\left( \\begin{array}{r} 1  \\\\  -2 \\\\ 0 \\end{array}\t\\right) ,  \\left( \\begin{array}{r} 3 \\\\  0 \\\\ 3 \\end{array}\t\\right) $?\n",
    "- [ ] 3\n",
    "- [ ] 5\n",
    "- [ ] 7\n"
   ]
  },
  {
   "cell_type": "markdown",
   "metadata": {},
   "source": [
    "**B)** Let $\\mathbf{v}, \\mathbf{w} \\in \\mathbb{R}^n$ be two column vectors. Which of the following statements is always true?\n",
    "- [ ] $\\mathbf{v} \\cdot \\mathbf{w} = \\mathbf{w} \\cdot \\mathbf{v} $ \n",
    "- [ ]  $\\mathbf{v}^T \\cdot \\mathbf{w} = \\mathbf{w}^T \\cdot \\mathbf{v} $  \n",
    "- [ ] $ \\mathbf{v} \\cdot \\mathbf{w}^T = \\mathbf{w} \\cdot \\mathbf{v}^T $  "
   ]
  },
  {
   "cell_type": "markdown",
   "metadata": {},
   "source": [
    "**C)** The mapping $f: \\mathbb{R}^2 \\ni (x, y)^\\top \\mapsto (x + y, y- x)^\\top \\in \\mathbb{R}^2$ is given by the following matrix:\n",
    "- [ ] $\\left( \\begin{array}{rr} 1 &  1  \\\\ \t1& -1 \\end{array}\t\\right) $\n",
    "- [ ] $\\left( \\begin{array}{rr} 0 & 2  \\\\ \t-2& 0 \\end{array}\t\\right) $\n",
    "- [ ] $\\left( \\begin{array}{rr} 1 & 1  \\\\ \t-1& 1 \\end{array}\t\\right)$"
   ]
  },
  {
   "cell_type": "markdown",
   "metadata": {},
   "source": [
    "**D)** Which property does matrix multiplication **not** have?\n",
    "- [ ] Associativity:  $(AB)C = A(BC)$\n",
    "- [ ] Commutativity:  $AB = BA$\n",
    "- [ ] Distributivity: $(A+B)C = AC + BC$"
   ]
  },
  {
   "cell_type": "markdown",
   "metadata": {},
   "source": [
    "**E)** Let $A \\in \\mathbb{R}^{n \\times n}$ be an invertible matrix and $\\mathbf{v},\\mathbf{w} \\in \\mathbb{R}^n$ two column vectors with $A \\cdot \\mathbf{v} = \\mathbf{w}$. Which of the following statements is always true?\n",
    "- [ ] $ A = \\mathbf{w} \\cdot \\mathbf{v}^{-1} $\n",
    "- [ ] $ \\mathbf{v} = \\mathbf{w} \\cdot A^{-1} $\n",
    "- [ ] $ \\mathbf{v} = A^{-1} \\cdot \\mathbf{w} $"
   ]
  },
  {
   "cell_type": "markdown",
   "metadata": {},
   "source": [
    "**F)** The rank of the matrix $\\left( \\begin{array}{rr} 4 & 4 & 4 \\\\ 4 & 4 & 4 \\\\ 4 & 4 & 4 \\end{array}\t\\right)$ is\n",
    "- [ ] 1\n",
    "- [ ] 3 \n",
    "- [ ] 4"
   ]
  },
  {
   "cell_type": "markdown",
   "metadata": {},
   "source": [
    "**G)** For a square $n \\times n$ matrix $A$ holds\n",
    "- [ ] $rank(A) = n \\; \\Rightarrow \\; A$ is invertible, but there are invertible $A$ with $rank(A) \\neq n$\n",
    "- [ ] $A$ is invertible $\\; \\Rightarrow \\; rank(A) = n$, but there are $A$ with $rank(A) = n$, which are not invertible.\n",
    "- [ ] $rank(A) = n \\; \\iff \\; A$ is invertible "
   ]
  },
  {
   "cell_type": "markdown",
   "metadata": {},
   "source": [
    "**H)** Which of the following matrices is orthogonal:\n",
    "- [ ] $\\left( \\begin{array}{rr} 0 & 1 \\\\ -1 & 0 \\end{array}\t\\right) $\n",
    "- [ ] $\\left( \\begin{array}{rr} 1 & -1 \\\\ -1 & 1 \\end{array}\t\\right) $\n",
    "- [ ] $\\left( \\begin{array}{rr} 1 & 1 \\\\ 1 & 0 \\end{array}\t\\right) $"
   ]
  },
  {
   "cell_type": "markdown",
   "metadata": {},
   "source": [
    "### Task 2 (3 points)\n",
    "Please replace '?' with the correct solution.             \n",
    "We consider two functions $f$ and $g$ which transform an input vector $\\mathbf{x} = (x_1, \\dots , x_d)^T \\in \\mathbb{R}^d$ into scalars: $f(\\mathbf{x}) = \\mathbf{u}^T\\mathbf{x}$, $\\mathbf{u} = (u_1, \\dots, u_d)^T \\in \\mathbb{R}^d$ and $g(\\mathbf{x}) = \\mathbf{x}^T\\mathbf{x}$.      "
   ]
  },
  {
   "cell_type": "markdown",
   "metadata": {},
   "source": [
    "**A)** Compute the partial derivates of $f$ and $g$ with respect to one entry $x_j$ (where $j \\in \\{1,2, \\dots d\\}$)\n",
    "+ $\\frac{\\partial f(\\mathbf{x})}{\\partial x_j}$ = ?\n",
    "+ $\\frac{\\partial g(\\mathbf{x})}{\\partial x_j}$ = ?"
   ]
  },
  {
   "cell_type": "markdown",
   "metadata": {},
   "source": [
    "**B)** Compute the gradient for $f$ and $g$.\n",
    "+ $\\nabla f(\\mathbf{x}) = (\\frac{\\partial f(\\mathbf{x})}{\\partial x_1}, \\dots, \\frac{\\partial f(\\mathbf{x})}{\\partial x_d})^T$ = ?\n",
    "+ $\\nabla g(\\mathbf{x}) = (\\frac{\\partial g(\\mathbf{x})}{\\partial x_1}, \\dots, \\frac{\\partial g(\\mathbf{x})}{\\partial x_d})^T$ = ?"
   ]
  },
  {
   "cell_type": "markdown",
   "metadata": {},
   "source": [
    "### Task 3 (4 points)\n",
    "Let $A \\in \\mathbb{R}^{n \\times n}$ be a symmetric matrix and $\\mathbf{v}, \\mathbf{w} \\in \\mathbb{R}^n$ be two Eigenvectors of $A$ corresponding to Eigenvalues $\\lambda, \\mu \\in \\mathbb{R}$ with $\\lambda \\neq \\mu$. (Recall the definition of Eigenvectors: $A \\mathbf{v} = \\lambda \\mathbf{v}$ and $A \\mathbf{w} = \\mu \\mathbf{w}$).        \n",
    "             \n",
    "**Show:** $\\mathbf{v}$ and $\\mathbf{w}$ are orhogonal, i.e. $\\mathbf{v}^T \\mathbf{w} = 0$.  \n",
    "              \n",
    "*Hint:* $\\lambda \\mathbf{v}^T \\mathbf{w} = \\dots$"
   ]
  },
  {
   "cell_type": "markdown",
   "metadata": {},
   "source": [
    "*Your proof here*"
   ]
  },
  {
   "cell_type": "markdown",
   "metadata": {},
   "source": [
    "# Part 2: Python Basics\n",
    "---\n",
    "The aim of this task is to familiarize yourself with Python. This template contains several functions and function stubs. Do not rename the functions and only insert code where indicated.  The template also contains a function to help you test your code: ```test_prep()```. Please make sure that all test cases are passed. \n",
    "### Task 1 (11 points)\n",
    "**A) (2 points)** Write the function ```generate_data(N)```, which generates a $2 \\times N$ array $X$ with $N$ data points from a 2-d gaussian distribution with mean $(1,2)^T$ and a covariance matrix of your choice.    \n",
    "                  \n",
    "**B) (2 points)** Write the function ```scale_data(X)``` which scales the two-dimensional data in $X$, the x-direction by 2 and the y-direction by 0.5.      \n",
    "                  \n",
    "**C) (4 points)** Write the function ```standardise_data(X)```  which standardises data  $X$ of arbitrary dimension. The function should transform each row $X[i,:]$ of $X$ such that its mean \n",
    "$$\n",
    "\\mu[i] =\\frac{1}{N} \\sum_{n=0}^{N-1}( X[i,n]) \n",
    "$$\n",
    "is zero and its standard deviation $\\sigma$\n",
    "$$\n",
    "\\sigma[i] =\\sqrt{\\frac{1}{N}\\sum_{n=0}^{N-1}( X[i,n]-\\mu[i])^2}\n",
    "$$\n",
    " is one. Try to implement this function without using loops. (For the use of loops one point will be deducted.)        \n",
    "                 \n",
    "**D) (3 points)** Complete the function  ```task1()``` that generates a plot that shows the original data, the scaled data, and the standardized data on top of each other with different colors. Individualize the figure, so that it has a title, a legend and labels for the x- and y-axis."
   ]
  },
  {
   "cell_type": "code",
   "execution_count": null,
   "metadata": {
    "collapsed": true
   },
   "outputs": [],
   "source": [
    "import pylab as pl\n",
    "import scipy as sp\n",
    "import time\n",
    "import pdb\n",
    "%matplotlib inline"
   ]
  },
  {
   "cell_type": "code",
   "execution_count": null,
   "metadata": {
    "collapsed": true
   },
   "outputs": [],
   "source": [
    "def task1():\n",
    "    ''' \n",
    "    Task 1\n",
    "    Generate, transform and plot gaussian data\n",
    "    '''\n",
    "    X = generate_data(100)\n",
    "    X2 = scale_data(X)\n",
    "    X3 = standardise_data(X) \n",
    "    \n",
    "    # Plot data \n",
    "    # Your code here \n",
    "    # Hint: Use the functions pl.scatter(x[0,:],[1,:],c='r'), pl.hold(True), \n",
    "    # pl.legend, pl.title, pl.xlabel, pl.ylabel     \n",
    "    \n",
    "def generate_data(N):\n",
    "    '''\n",
    "    Generate N data points form a 2D Gaussian Gaussian distribution \n",
    "    with mean [1, 2] \n",
    "    \n",
    "    Usage:     x = generate_data(N)\n",
    "               \n",
    "    Returns:   x : a 2xN array    \n",
    "    \n",
    "    Instructions: Use sp.random.multivariate_normal\n",
    "    '''\n",
    "    # Your code here \n",
    "\n",
    "def scale_data(X):\n",
    "    '''\n",
    "    Scales the data in X by 2 in x-direction and by 0.5 in y-direction\n",
    "    \n",
    "    Usage:     Y = scale_data(X)\n",
    "    Input:     X : a 2xN array \n",
    "    Returns:   Y : a 2xN array of scaled data\n",
    "    \n",
    "    '''\n",
    "    # Your code here \n",
    "    \n",
    "def standardise_data(X):\n",
    "    ''' Returns a centered, scaled version of X, the same size as X.\n",
    "    \n",
    "    Usage:      Y = standardise_data(X)\n",
    "    Input:      X : a DxN array \n",
    "    Returns:    Y : a DxN array of z-scores of X\n",
    "                    Y[i][n] = (X[i][n] - mean(X[i][:]))/std(X[i][:])\n",
    "    \n",
    "    Instructions: Do not use for-loops. Use sp.mean and sp.std\n",
    "    '''\n",
    "    # Your code here \n",
    "    "
   ]
  },
  {
   "cell_type": "code",
   "execution_count": null,
   "metadata": {
    "collapsed": true
   },
   "outputs": [],
   "source": [
    "task1()"
   ]
  },
  {
   "cell_type": "markdown",
   "metadata": {},
   "source": [
    "### Task 2 (4 points)\n",
    "Note that Python is, in general, relatively slow for loops. To demonstrate this, we will implement a simple example.             \n",
    "               \n",
    "**A) (3 points)** Implement a for-loop based calculation of the mean $\\mu$ in the function stub ```mean_for(X)```.              \n",
    "                    \n",
    "**B) (1 point)** Call the function ```task2()```  which compares the performance of  ```mean_for``` and ```scipy.mean```.  Which function is faster?\n",
    "\n",
    "*Throughout this course, we will therefore deduct points for the use of unnecessary loops.*"
   ]
  },
  {
   "cell_type": "code",
   "execution_count": null,
   "metadata": {
    "collapsed": true
   },
   "outputs": [],
   "source": [
    "def task2():\n",
    "    ''' \n",
    "    Task 2 \n",
    "    Calculate time demand of different mean calculations \n",
    "    (for-loop based implementation vs. scipy.mean)\n",
    "    '''\n",
    "    dims = [100, 1000, 10**4, 10**5, 10**6]\n",
    "    for i, d in enumerate(dims):\n",
    "        x = generate_data(d)\n",
    "        r1 = timedcall(mean_for, x)\n",
    "        r2 = timedcall(sp.mean, x,1)\n",
    "        print 'For N = ' + str(d) + ' scipy.mean is ' + str(r1 - r2) \\\n",
    "            + 's faster than a for-loop implementation'\n",
    "    \n",
    "def mean_for(X):\n",
    "    ''' Mean of array X along the rows\n",
    "    \n",
    "    Usage:      m = mean_for(X)\n",
    "    Input:      X : a DxN array \n",
    "    Returns:    m : a 1-dimensional array of length D, containing the means of each row\n",
    "    \n",
    "    Example: if   X =  [1 5      mean_for(X) = [3 4 5]\n",
    "                        2 6                     \n",
    "                        3 7]                   \n",
    "         \n",
    "        \n",
    "    Instructions: Use for-loops to replicate sp.mean(X,1) \n",
    "    Do not use sp.mean or sp.sum\n",
    "    '''\n",
    "    # Your code here \n",
    "\n",
    "\n",
    "def timedcall(fn, *args):\n",
    "    '''Call function with args; return the time in seconds and result.\n",
    "        example: \n",
    "        You want to time the function call \"C = foo(A,B)\". \n",
    "        --> \"T, C = timecall(foo, A, B)\"\n",
    "    '''\n",
    "    t0 = time.clock()\n",
    "    result = fn(*args)\n",
    "    t1 = time.clock()\n",
    "    return t1-t0"
   ]
  },
  {
   "cell_type": "code",
   "execution_count": null,
   "metadata": {
    "collapsed": true
   },
   "outputs": [],
   "source": [
    "task2()"
   ]
  },
  {
   "cell_type": "code",
   "execution_count": 2,
   "metadata": {
    "collapsed": true
   },
   "outputs": [],
   "source": [
    "''' ---- Function for testing ---- '''\n",
    "\n",
    "def test_prep():\n",
    "    a = sp.array([[ 1.,  3.,  4.],[ 2.,  4.,  6.]])\n",
    "    b = sp.array([[ 2.,  6.,  8.],[ 1.,  2.,  3.]])\n",
    "    #test scale_data\n",
    "    assert(sp.all(scale_data(a) == b))\n",
    "    #test standardise_data\n",
    "    assert(sp.all(standardise_data(a.T) == sp.array([[-1.,  1.],[-1.,  1.],[-1.,  1.]])))\n",
    "    assert(sp.all(sp.mean(standardise_data(b),1).round() == sp.zeros((1,2))))\n",
    "    c = sp.concatenate((a,b),axis=0)\n",
    "    assert(sp.all(sp.mean(standardise_data(c),1).round() == sp.zeros((1,4))))\n",
    "    #test mean_for\n",
    "    assert(sp.all(mean_for(a) == sp.mean(a,1))) \n",
    "    #test generate_data\n",
    "    x = generate_data(200)\n",
    "    assert(x.shape == (2, 200))\n",
    "    print 'Tests passed'"
   ]
  },
  {
   "cell_type": "code",
   "execution_count": null,
   "metadata": {
    "collapsed": true
   },
   "outputs": [],
   "source": [
    "test_prep()"
   ]
  }
 ],
 "metadata": {
  "anaconda-cloud": {},
  "kernelspec": {
   "display_name": "Python 2",
   "language": "python",
   "name": "python2"
  },
  "language_info": {
   "codemirror_mode": {
    "name": "ipython",
    "version": 2
   },
   "file_extension": ".py",
   "mimetype": "text/x-python",
   "name": "python",
   "nbconvert_exporter": "python",
   "pygments_lexer": "ipython2",
   "version": "2.7.13"
  }
 },
 "nbformat": 4,
 "nbformat_minor": 1
}
